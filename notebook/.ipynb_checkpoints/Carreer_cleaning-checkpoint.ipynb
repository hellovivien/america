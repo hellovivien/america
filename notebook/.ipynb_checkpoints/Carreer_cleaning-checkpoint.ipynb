{
 "cells": [
  {
   "cell_type": "code",
   "execution_count": 18,
   "metadata": {},
   "outputs": [
    {
     "name": "stdout",
     "output_type": "stream",
     "text": [
      "✅ Setup complete.\n"
     ]
    }
   ],
   "source": [
    "#import des deux fichiers vers dataframes\n",
    "\n",
    "import sys\n",
    "sys.path.insert(0, \"../\")\n",
    "\n",
    "from src.d00_utils.utils import *\n",
    "\n",
    "# show all rows/columns\n",
    "pd.options.display.max_columns = None\n",
    "pd.options.display.max_rows = None\n",
    "pd.set_option('display.float_format', lambda x: '%.0f' % x) #print float as int\n",
    "\n",
    "\n",
    "ds_path = \"../Data/01_raw\"\n",
    "\n",
    "\n",
    "analyst_df = pd.read_csv(f\"{ds_path}/data1.csv\", index_col = 0)\n",
    "survey_df = pd.read_excel(f\"{ds_path}/data2.xlsx\", header = 3, parse_dates = True)\n",
    "\n",
    "print(\"✅ Setup complete.\")"
   ]
  },
  {
   "cell_type": "markdown",
   "metadata": {},
   "source": [
    "On dispose de 2 datasets. Ils seront étudiés l'un après l'autre puis mis en relation plus loin dans l'analyse."
   ]
  },
  {
   "cell_type": "markdown",
   "metadata": {},
   "source": [
    "# **Dataset Salary Survey**"
   ]
  },
  {
   "cell_type": "markdown",
   "metadata": {},
   "source": [
    "### Aperçu\n",
    "\n",
    "Utilisation des fonctions head, shape et dtypes pour obtenir un apercu des données"
   ]
  },
  {
   "cell_type": "code",
   "execution_count": 19,
   "metadata": {},
   "outputs": [
    {
     "data": {
      "text/markdown": [
       "## Survey Salary Jobs"
      ],
      "text/plain": [
       "<IPython.core.display.Markdown object>"
      ]
     },
     "metadata": {},
     "output_type": "display_data"
    },
    {
     "data": {
      "text/markdown": [
       "**Shape**"
      ],
      "text/plain": [
       "<IPython.core.display.Markdown object>"
      ]
     },
     "metadata": {},
     "output_type": "display_data"
    },
    {
     "data": {
      "text/plain": [
       "(8627, 31)"
      ]
     },
     "metadata": {},
     "output_type": "display_data"
    },
    {
     "data": {
      "text/markdown": [
       "**Sample**"
      ],
      "text/plain": [
       "<IPython.core.display.Markdown object>"
      ]
     },
     "metadata": {},
     "output_type": "display_data"
    },
    {
     "data": {
      "text/markdown": [
       "**Types**"
      ],
      "text/plain": [
       "<IPython.core.display.Markdown object>"
      ]
     },
     "metadata": {},
     "output_type": "display_data"
    },
    {
     "data": {
      "text/plain": [
       "Survey Year                                      int64\n",
       "Timestamp                               datetime64[ns]\n",
       "SalaryUSD                                      float64\n",
       "Country                                         object\n",
       "PostalCode                                      object\n",
       "PrimaryDatabase                                 object\n",
       "YearsWithThisDatabase                            int64\n",
       "OtherDatabases                                  object\n",
       "EmploymentStatus                                object\n",
       "JobTitle                                        object\n",
       "ManageStaff                                     object\n",
       "YearsWithThisTypeOfJob                           int64\n",
       "HowManyCompanies                                object\n",
       "OtherPeopleOnYourTeam                           object\n",
       "CompanyEmployeesOverall                         object\n",
       "DatabaseServers                                  int64\n",
       "Education                                       object\n",
       "EducationIsComputerRelated                      object\n",
       "Certifications                                  object\n",
       "HoursWorkedPerWeek                              object\n",
       "TelecommuteDaysPerWeek                          object\n",
       "NewestVersionInProduction                       object\n",
       "OldestVersionInProduction                       object\n",
       "PopulationOfLargestCityWithin20Miles            object\n",
       "EmploymentSector                                object\n",
       "LookingForAnotherJob                            object\n",
       "CareerPlansThisYear                             object\n",
       "Gender                                          object\n",
       "OtherJobDuties                                  object\n",
       "KindsOfTasksPerformed                           object\n",
       "Counter                                          int64\n",
       "dtype: object"
      ]
     },
     "metadata": {},
     "output_type": "display_data"
    },
    {
     "data": {
      "text/markdown": [
       "**Sample**"
      ],
      "text/plain": [
       "<IPython.core.display.Markdown object>"
      ]
     },
     "metadata": {},
     "output_type": "display_data"
    },
    {
     "data": {
      "text/html": [
       "<div>\n",
       "<style scoped>\n",
       "    .dataframe tbody tr th:only-of-type {\n",
       "        vertical-align: middle;\n",
       "    }\n",
       "\n",
       "    .dataframe tbody tr th {\n",
       "        vertical-align: top;\n",
       "    }\n",
       "\n",
       "    .dataframe thead th {\n",
       "        text-align: right;\n",
       "    }\n",
       "</style>\n",
       "<table border=\"1\" class=\"dataframe\">\n",
       "  <thead>\n",
       "    <tr style=\"text-align: right;\">\n",
       "      <th></th>\n",
       "      <th>Survey Year</th>\n",
       "      <th>Timestamp</th>\n",
       "      <th>SalaryUSD</th>\n",
       "      <th>Country</th>\n",
       "      <th>PostalCode</th>\n",
       "      <th>PrimaryDatabase</th>\n",
       "      <th>YearsWithThisDatabase</th>\n",
       "      <th>OtherDatabases</th>\n",
       "      <th>EmploymentStatus</th>\n",
       "      <th>JobTitle</th>\n",
       "      <th>ManageStaff</th>\n",
       "      <th>YearsWithThisTypeOfJob</th>\n",
       "      <th>HowManyCompanies</th>\n",
       "      <th>OtherPeopleOnYourTeam</th>\n",
       "      <th>CompanyEmployeesOverall</th>\n",
       "      <th>DatabaseServers</th>\n",
       "      <th>Education</th>\n",
       "      <th>EducationIsComputerRelated</th>\n",
       "      <th>Certifications</th>\n",
       "      <th>HoursWorkedPerWeek</th>\n",
       "      <th>TelecommuteDaysPerWeek</th>\n",
       "      <th>NewestVersionInProduction</th>\n",
       "      <th>OldestVersionInProduction</th>\n",
       "      <th>PopulationOfLargestCityWithin20Miles</th>\n",
       "      <th>EmploymentSector</th>\n",
       "      <th>LookingForAnotherJob</th>\n",
       "      <th>CareerPlansThisYear</th>\n",
       "      <th>Gender</th>\n",
       "      <th>OtherJobDuties</th>\n",
       "      <th>KindsOfTasksPerformed</th>\n",
       "      <th>Counter</th>\n",
       "    </tr>\n",
       "  </thead>\n",
       "  <tbody>\n",
       "    <tr>\n",
       "      <th>3844</th>\n",
       "      <td>2018</td>\n",
       "      <td>2017-12-20 10:08:40.378</td>\n",
       "      <td>105000</td>\n",
       "      <td>United States</td>\n",
       "      <td>75001</td>\n",
       "      <td>Microsoft SQL Server</td>\n",
       "      <td>5</td>\n",
       "      <td>Microsoft SQL Server, Azure SQL DB</td>\n",
       "      <td>Full time employee of a consulting/contracting...</td>\n",
       "      <td>Architect</td>\n",
       "      <td>No</td>\n",
       "      <td>2</td>\n",
       "      <td>Not Asked</td>\n",
       "      <td>More than 5</td>\n",
       "      <td>Not Asked</td>\n",
       "      <td>1000</td>\n",
       "      <td>Bachelors (4 years)</td>\n",
       "      <td>Yes</td>\n",
       "      <td>No, I never have</td>\n",
       "      <td>50</td>\n",
       "      <td>None, or less than 1 day per week</td>\n",
       "      <td>Not Asked</td>\n",
       "      <td>Not Asked</td>\n",
       "      <td>Not Asked</td>\n",
       "      <td>Private business</td>\n",
       "      <td>No</td>\n",
       "      <td>Stay with the same employer,  but change roles</td>\n",
       "      <td>Male</td>\n",
       "      <td>Developer: Business Intelligence (SSRS, PowerB...</td>\n",
       "      <td>Build scripts &amp; automation tools, Projects, R&amp;D</td>\n",
       "      <td>1</td>\n",
       "    </tr>\n",
       "    <tr>\n",
       "      <th>3900</th>\n",
       "      <td>2018</td>\n",
       "      <td>2017-12-20 09:29:37.556</td>\n",
       "      <td>43600</td>\n",
       "      <td>United Kingdom</td>\n",
       "      <td>Scotland</td>\n",
       "      <td>Microsoft SQL Server</td>\n",
       "      <td>9</td>\n",
       "      <td>NaN</td>\n",
       "      <td>Full time employee</td>\n",
       "      <td>Engineer</td>\n",
       "      <td>No</td>\n",
       "      <td>3</td>\n",
       "      <td>Not Asked</td>\n",
       "      <td>2</td>\n",
       "      <td>Not Asked</td>\n",
       "      <td>3</td>\n",
       "      <td>None (no degree completed)</td>\n",
       "      <td>NaN</td>\n",
       "      <td>No, I never have</td>\n",
       "      <td>37</td>\n",
       "      <td>None, or less than 1 day per week</td>\n",
       "      <td>Not Asked</td>\n",
       "      <td>Not Asked</td>\n",
       "      <td>Not Asked</td>\n",
       "      <td>Education (K-12, college, university)</td>\n",
       "      <td>No</td>\n",
       "      <td>Stay with the same employer, same role</td>\n",
       "      <td>Male</td>\n",
       "      <td>Analyst</td>\n",
       "      <td>Build scripts &amp; automation tools, Projects, R&amp;D</td>\n",
       "      <td>1</td>\n",
       "    </tr>\n",
       "    <tr>\n",
       "      <th>2026</th>\n",
       "      <td>2019</td>\n",
       "      <td>2018-12-21 22:49:53.331</td>\n",
       "      <td>16500</td>\n",
       "      <td>Russia</td>\n",
       "      <td>NaN</td>\n",
       "      <td>Microsoft SQL Server</td>\n",
       "      <td>6</td>\n",
       "      <td>Azure SQL DB, Sybase</td>\n",
       "      <td>Full time employee</td>\n",
       "      <td>Developer: T-SQL</td>\n",
       "      <td>No</td>\n",
       "      <td>7</td>\n",
       "      <td>2 (I worked at another similar position elsewh...</td>\n",
       "      <td>1</td>\n",
       "      <td>6-99</td>\n",
       "      <td>7</td>\n",
       "      <td>Bachelors (4 years)</td>\n",
       "      <td>No</td>\n",
       "      <td>No, I never have</td>\n",
       "      <td>45</td>\n",
       "      <td>None, or less than 1 day per week</td>\n",
       "      <td>Not Asked</td>\n",
       "      <td>Not Asked</td>\n",
       "      <td>1M+ (metropolis)</td>\n",
       "      <td>Private business</td>\n",
       "      <td>No</td>\n",
       "      <td>Stay with the same employer,  but change roles</td>\n",
       "      <td>Male</td>\n",
       "      <td>Analyst, Developer: Business Intelligence (SSR...</td>\n",
       "      <td>Build scripts &amp; automation tools, Manual tasks...</td>\n",
       "      <td>1</td>\n",
       "    </tr>\n",
       "    <tr>\n",
       "      <th>2094</th>\n",
       "      <td>2019</td>\n",
       "      <td>2018-12-21 16:53:24.998</td>\n",
       "      <td>79800</td>\n",
       "      <td>United States</td>\n",
       "      <td>488</td>\n",
       "      <td>Microsoft SQL Server</td>\n",
       "      <td>5</td>\n",
       "      <td>Microsoft Access</td>\n",
       "      <td>Full time employee</td>\n",
       "      <td>Developer: T-SQL</td>\n",
       "      <td>No</td>\n",
       "      <td>5</td>\n",
       "      <td>1 (this is the only company where I've had thi...</td>\n",
       "      <td>More than 5</td>\n",
       "      <td>1000 or more</td>\n",
       "      <td>4</td>\n",
       "      <td>Bachelors (4 years)</td>\n",
       "      <td>No</td>\n",
       "      <td>No, I never have</td>\n",
       "      <td>38</td>\n",
       "      <td>None, or less than 1 day per week</td>\n",
       "      <td>Not Asked</td>\n",
       "      <td>Not Asked</td>\n",
       "      <td>300K-1M (large city)</td>\n",
       "      <td>Private business</td>\n",
       "      <td>No</td>\n",
       "      <td>Stay with the same employer, same role</td>\n",
       "      <td>Male</td>\n",
       "      <td>Analyst, Architect, Developer: Business Intell...</td>\n",
       "      <td>Meetings &amp; management, Projects</td>\n",
       "      <td>1</td>\n",
       "    </tr>\n",
       "    <tr>\n",
       "      <th>28</th>\n",
       "      <td>2020</td>\n",
       "      <td>2019-12-31 13:00:25.460</td>\n",
       "      <td>116000</td>\n",
       "      <td>United States</td>\n",
       "      <td>05</td>\n",
       "      <td>Microsoft SQL Server</td>\n",
       "      <td>15</td>\n",
       "      <td>Azure SQL DB (any flavor)</td>\n",
       "      <td>Full time employee</td>\n",
       "      <td>DBA (Production Focus - build &amp; troubleshoot s...</td>\n",
       "      <td>No</td>\n",
       "      <td>9</td>\n",
       "      <td>1 (this is the only company where I've had thi...</td>\n",
       "      <td>1</td>\n",
       "      <td>Not Asked</td>\n",
       "      <td>300</td>\n",
       "      <td>Not Asked</td>\n",
       "      <td>Not Asked</td>\n",
       "      <td>Not Asked</td>\n",
       "      <td>Not Asked</td>\n",
       "      <td>Not Asked</td>\n",
       "      <td>SQL Server 2017</td>\n",
       "      <td>SQL 2005</td>\n",
       "      <td>20K-99K (large town)</td>\n",
       "      <td>Non-profit</td>\n",
       "      <td>Not Asked</td>\n",
       "      <td>Stay with the same employer, same role</td>\n",
       "      <td>Male</td>\n",
       "      <td>Not Asked</td>\n",
       "      <td>Not Asked</td>\n",
       "      <td>1</td>\n",
       "    </tr>\n",
       "  </tbody>\n",
       "</table>\n",
       "</div>"
      ],
      "text/plain": [
       "      Survey Year               Timestamp  SalaryUSD         Country  \\\n",
       "3844         2018 2017-12-20 10:08:40.378     105000   United States   \n",
       "3900         2018 2017-12-20 09:29:37.556      43600  United Kingdom   \n",
       "2026         2019 2018-12-21 22:49:53.331      16500          Russia   \n",
       "2094         2019 2018-12-21 16:53:24.998      79800   United States   \n",
       "28           2020 2019-12-31 13:00:25.460     116000   United States   \n",
       "\n",
       "     PostalCode       PrimaryDatabase  YearsWithThisDatabase  \\\n",
       "3844      75001  Microsoft SQL Server                      5   \n",
       "3900   Scotland  Microsoft SQL Server                      9   \n",
       "2026        NaN  Microsoft SQL Server                      6   \n",
       "2094        488  Microsoft SQL Server                      5   \n",
       "28           05  Microsoft SQL Server                     15   \n",
       "\n",
       "                          OtherDatabases  \\\n",
       "3844  Microsoft SQL Server, Azure SQL DB   \n",
       "3900                                 NaN   \n",
       "2026                Azure SQL DB, Sybase   \n",
       "2094                    Microsoft Access   \n",
       "28             Azure SQL DB (any flavor)   \n",
       "\n",
       "                                       EmploymentStatus  \\\n",
       "3844  Full time employee of a consulting/contracting...   \n",
       "3900                                 Full time employee   \n",
       "2026                                 Full time employee   \n",
       "2094                                 Full time employee   \n",
       "28                                   Full time employee   \n",
       "\n",
       "                                               JobTitle ManageStaff  \\\n",
       "3844                                          Architect          No   \n",
       "3900                                           Engineer          No   \n",
       "2026                                   Developer: T-SQL          No   \n",
       "2094                                   Developer: T-SQL          No   \n",
       "28    DBA (Production Focus - build & troubleshoot s...          No   \n",
       "\n",
       "      YearsWithThisTypeOfJob  \\\n",
       "3844                       2   \n",
       "3900                       3   \n",
       "2026                       7   \n",
       "2094                       5   \n",
       "28                         9   \n",
       "\n",
       "                                       HowManyCompanies OtherPeopleOnYourTeam  \\\n",
       "3844                                          Not Asked           More than 5   \n",
       "3900                                          Not Asked                     2   \n",
       "2026  2 (I worked at another similar position elsewh...                     1   \n",
       "2094  1 (this is the only company where I've had thi...           More than 5   \n",
       "28    1 (this is the only company where I've had thi...                     1   \n",
       "\n",
       "     CompanyEmployeesOverall  DatabaseServers                   Education  \\\n",
       "3844               Not Asked             1000         Bachelors (4 years)   \n",
       "3900               Not Asked                3  None (no degree completed)   \n",
       "2026                    6-99                7         Bachelors (4 years)   \n",
       "2094            1000 or more                4         Bachelors (4 years)   \n",
       "28                 Not Asked              300                   Not Asked   \n",
       "\n",
       "     EducationIsComputerRelated    Certifications HoursWorkedPerWeek  \\\n",
       "3844                        Yes  No, I never have                 50   \n",
       "3900                        NaN  No, I never have                 37   \n",
       "2026                         No  No, I never have                 45   \n",
       "2094                         No  No, I never have                 38   \n",
       "28                    Not Asked         Not Asked          Not Asked   \n",
       "\n",
       "                 TelecommuteDaysPerWeek NewestVersionInProduction  \\\n",
       "3844  None, or less than 1 day per week                 Not Asked   \n",
       "3900  None, or less than 1 day per week                 Not Asked   \n",
       "2026  None, or less than 1 day per week                 Not Asked   \n",
       "2094  None, or less than 1 day per week                 Not Asked   \n",
       "28                            Not Asked           SQL Server 2017   \n",
       "\n",
       "     OldestVersionInProduction PopulationOfLargestCityWithin20Miles  \\\n",
       "3844                 Not Asked                            Not Asked   \n",
       "3900                 Not Asked                            Not Asked   \n",
       "2026                 Not Asked                     1M+ (metropolis)   \n",
       "2094                 Not Asked                 300K-1M (large city)   \n",
       "28                    SQL 2005                 20K-99K (large town)   \n",
       "\n",
       "                           EmploymentSector LookingForAnotherJob  \\\n",
       "3844                       Private business                   No   \n",
       "3900  Education (K-12, college, university)                   No   \n",
       "2026                       Private business                   No   \n",
       "2094                       Private business                   No   \n",
       "28                               Non-profit            Not Asked   \n",
       "\n",
       "                                 CareerPlansThisYear Gender  \\\n",
       "3844  Stay with the same employer,  but change roles   Male   \n",
       "3900          Stay with the same employer, same role   Male   \n",
       "2026  Stay with the same employer,  but change roles   Male   \n",
       "2094          Stay with the same employer, same role   Male   \n",
       "28            Stay with the same employer, same role   Male   \n",
       "\n",
       "                                         OtherJobDuties  \\\n",
       "3844  Developer: Business Intelligence (SSRS, PowerB...   \n",
       "3900                                            Analyst   \n",
       "2026  Analyst, Developer: Business Intelligence (SSR...   \n",
       "2094  Analyst, Architect, Developer: Business Intell...   \n",
       "28                                            Not Asked   \n",
       "\n",
       "                                  KindsOfTasksPerformed  Counter  \n",
       "3844    Build scripts & automation tools, Projects, R&D        1  \n",
       "3900    Build scripts & automation tools, Projects, R&D        1  \n",
       "2026  Build scripts & automation tools, Manual tasks...        1  \n",
       "2094                    Meetings & management, Projects        1  \n",
       "28                                            Not Asked        1  "
      ]
     },
     "metadata": {},
     "output_type": "display_data"
    }
   ],
   "source": [
    "df = survey_df.copy() \n",
    "quick_view(df, \"Survey Salary Jobs\")"
   ]
  },
  {
   "cell_type": "markdown",
   "metadata": {},
   "source": [
    "## Supprimer les lignes en double\n",
    "\n",
    "On retrouve quelques lignes en double en ne prenant pas en compte le timestamp, on va donc considérer que si le timestamp est très proche (< 10s) ça ne peut pas être une personne différente qui donne les même réponse, ce sont alors de vrais doublons. Pour pouvoir comparer les timestamp préciser `keep = False` pour comparer les doublons."
   ]
  },
  {
   "cell_type": "code",
   "execution_count": 20,
   "metadata": {},
   "outputs": [
    {
     "data": {
      "text/markdown": [
       "*Aucune ligne dupliquée*"
      ],
      "text/plain": [
       "<IPython.core.display.Markdown object>"
      ]
     },
     "metadata": {},
     "output_type": "display_data"
    },
    {
     "data": {
      "text/markdown": [
       "**Sans le timestamp**"
      ],
      "text/plain": [
       "<IPython.core.display.Markdown object>"
      ]
     },
     "metadata": {},
     "output_type": "display_data"
    },
    {
     "data": {
      "text/markdown": [
       "**Avant**"
      ],
      "text/plain": [
       "<IPython.core.display.Markdown object>"
      ]
     },
     "metadata": {},
     "output_type": "display_data"
    },
    {
     "name": "stdout",
     "output_type": "stream",
     "text": [
      "51 lignes dupliquées\n"
     ]
    },
    {
     "data": {
      "text/markdown": [
       "**Après**"
      ],
      "text/plain": [
       "<IPython.core.display.Markdown object>"
      ]
     },
     "metadata": {},
     "output_type": "display_data"
    },
    {
     "name": "stdout",
     "output_type": "stream",
     "text": [
      "0 lignes dupliquées\n"
     ]
    }
   ],
   "source": [
    "show_duplicated_rows(df)\n",
    "md(\"**Sans le timestamp**\")\n",
    "duplicate_withouy_ts = df[df.duplicated(subset=df.columns.difference(['Timestamp']), keep = False)]\n",
    "md(\"**Avant**\")\n",
    "print(duplicate_withouy_ts.shape[0], \"lignes dupliquées\")\n",
    "md(\"**Après**\")\n",
    "df.drop_duplicates(subset=df.columns.difference(['Timestamp']), inplace = True)\n",
    "duplicate_withouy_ts = df[df.duplicated(subset=df.columns.difference(['Timestamp']))]\n",
    "print(duplicate_withouy_ts.shape[0], \"lignes dupliquées\")\n",
    "\n",
    "\n"
   ]
  },
  {
   "cell_type": "markdown",
   "metadata": {},
   "source": [
    "## Filtrer et renommer les colonnes\n",
    "\n",
    "Filtrage des colonnes pour ne garder que les données necessaires à l'étude, on s'appuie dans un premier temps sur le nom des colonnes qui est assez explicite.\n",
    "Renommage des colonnes pour mieux travailler (cohérence, standardisation, export en sql...)"
   ]
  },
  {
   "cell_type": "code",
   "execution_count": 21,
   "metadata": {},
   "outputs": [
    {
     "data": {
      "text/markdown": [
       "**before**"
      ],
      "text/plain": [
       "<IPython.core.display.Markdown object>"
      ]
     },
     "metadata": {},
     "output_type": "display_data"
    },
    {
     "data": {
      "text/html": [
       "<div>\n",
       "<style scoped>\n",
       "    .dataframe tbody tr th:only-of-type {\n",
       "        vertical-align: middle;\n",
       "    }\n",
       "\n",
       "    .dataframe tbody tr th {\n",
       "        vertical-align: top;\n",
       "    }\n",
       "\n",
       "    .dataframe thead th {\n",
       "        text-align: right;\n",
       "    }\n",
       "</style>\n",
       "<table border=\"1\" class=\"dataframe\">\n",
       "  <thead>\n",
       "    <tr style=\"text-align: right;\">\n",
       "      <th></th>\n",
       "      <th>Survey Year</th>\n",
       "      <th>Timestamp</th>\n",
       "      <th>SalaryUSD</th>\n",
       "      <th>Country</th>\n",
       "      <th>PostalCode</th>\n",
       "      <th>PrimaryDatabase</th>\n",
       "      <th>YearsWithThisDatabase</th>\n",
       "      <th>OtherDatabases</th>\n",
       "      <th>EmploymentStatus</th>\n",
       "      <th>JobTitle</th>\n",
       "      <th>ManageStaff</th>\n",
       "      <th>YearsWithThisTypeOfJob</th>\n",
       "      <th>HowManyCompanies</th>\n",
       "      <th>OtherPeopleOnYourTeam</th>\n",
       "      <th>CompanyEmployeesOverall</th>\n",
       "      <th>DatabaseServers</th>\n",
       "      <th>Education</th>\n",
       "      <th>EducationIsComputerRelated</th>\n",
       "      <th>Certifications</th>\n",
       "      <th>HoursWorkedPerWeek</th>\n",
       "      <th>TelecommuteDaysPerWeek</th>\n",
       "      <th>NewestVersionInProduction</th>\n",
       "      <th>OldestVersionInProduction</th>\n",
       "      <th>PopulationOfLargestCityWithin20Miles</th>\n",
       "      <th>EmploymentSector</th>\n",
       "      <th>LookingForAnotherJob</th>\n",
       "      <th>CareerPlansThisYear</th>\n",
       "      <th>Gender</th>\n",
       "      <th>OtherJobDuties</th>\n",
       "      <th>KindsOfTasksPerformed</th>\n",
       "      <th>Counter</th>\n",
       "    </tr>\n",
       "  </thead>\n",
       "  <tbody>\n",
       "    <tr>\n",
       "      <th>0</th>\n",
       "      <td>2020</td>\n",
       "      <td>2020-01-04 18:50:34.328</td>\n",
       "      <td>115000</td>\n",
       "      <td>United States</td>\n",
       "      <td>03</td>\n",
       "      <td>Microsoft SQL Server</td>\n",
       "      <td>15</td>\n",
       "      <td>Microsoft SQL Server, MongoDB, Azure SQL DB (a...</td>\n",
       "      <td>Full time employee</td>\n",
       "      <td>DBA (Production Focus - build &amp; troubleshoot s...</td>\n",
       "      <td>No</td>\n",
       "      <td>5</td>\n",
       "      <td>1 (this is the only company where I've had thi...</td>\n",
       "      <td>2</td>\n",
       "      <td>Not Asked</td>\n",
       "      <td>500</td>\n",
       "      <td>Not Asked</td>\n",
       "      <td>Not Asked</td>\n",
       "      <td>Not Asked</td>\n",
       "      <td>Not Asked</td>\n",
       "      <td>Not Asked</td>\n",
       "      <td>SQL Server 2019</td>\n",
       "      <td>SQL Server 2016</td>\n",
       "      <td>20K-99K (large town)</td>\n",
       "      <td>Private business</td>\n",
       "      <td>Not Asked</td>\n",
       "      <td>Stay with the same employer, same role</td>\n",
       "      <td>Male</td>\n",
       "      <td>Not Asked</td>\n",
       "      <td>Not Asked</td>\n",
       "      <td>1</td>\n",
       "    </tr>\n",
       "  </tbody>\n",
       "</table>\n",
       "</div>"
      ],
      "text/plain": [
       "   Survey Year               Timestamp  SalaryUSD        Country PostalCode  \\\n",
       "0         2020 2020-01-04 18:50:34.328     115000  United States         03   \n",
       "\n",
       "        PrimaryDatabase  YearsWithThisDatabase  \\\n",
       "0  Microsoft SQL Server                     15   \n",
       "\n",
       "                                      OtherDatabases    EmploymentStatus  \\\n",
       "0  Microsoft SQL Server, MongoDB, Azure SQL DB (a...  Full time employee   \n",
       "\n",
       "                                            JobTitle ManageStaff  \\\n",
       "0  DBA (Production Focus - build & troubleshoot s...          No   \n",
       "\n",
       "   YearsWithThisTypeOfJob                                   HowManyCompanies  \\\n",
       "0                       5  1 (this is the only company where I've had thi...   \n",
       "\n",
       "  OtherPeopleOnYourTeam CompanyEmployeesOverall  DatabaseServers  Education  \\\n",
       "0                     2               Not Asked              500  Not Asked   \n",
       "\n",
       "  EducationIsComputerRelated Certifications HoursWorkedPerWeek  \\\n",
       "0                  Not Asked      Not Asked          Not Asked   \n",
       "\n",
       "  TelecommuteDaysPerWeek NewestVersionInProduction OldestVersionInProduction  \\\n",
       "0              Not Asked           SQL Server 2019           SQL Server 2016   \n",
       "\n",
       "  PopulationOfLargestCityWithin20Miles  EmploymentSector LookingForAnotherJob  \\\n",
       "0                 20K-99K (large town)  Private business            Not Asked   \n",
       "\n",
       "                      CareerPlansThisYear Gender OtherJobDuties  \\\n",
       "0  Stay with the same employer, same role   Male      Not Asked   \n",
       "\n",
       "  KindsOfTasksPerformed  Counter  \n",
       "0             Not Asked        1  "
      ]
     },
     "metadata": {},
     "output_type": "display_data"
    },
    {
     "data": {
      "text/markdown": [
       "**after**"
      ],
      "text/plain": [
       "<IPython.core.display.Markdown object>"
      ]
     },
     "metadata": {},
     "output_type": "display_data"
    },
    {
     "data": {
      "text/html": [
       "<div>\n",
       "<style scoped>\n",
       "    .dataframe tbody tr th:only-of-type {\n",
       "        vertical-align: middle;\n",
       "    }\n",
       "\n",
       "    .dataframe tbody tr th {\n",
       "        vertical-align: top;\n",
       "    }\n",
       "\n",
       "    .dataframe thead th {\n",
       "        text-align: right;\n",
       "    }\n",
       "</style>\n",
       "<table border=\"1\" class=\"dataframe\">\n",
       "  <thead>\n",
       "    <tr style=\"text-align: right;\">\n",
       "      <th></th>\n",
       "      <th>salary</th>\n",
       "      <th>location</th>\n",
       "      <th>postal_code</th>\n",
       "      <th>status</th>\n",
       "      <th>job_title</th>\n",
       "      <th>manage</th>\n",
       "      <th>experience</th>\n",
       "      <th>num_of_compagnies</th>\n",
       "      <th>team_size</th>\n",
       "      <th>num_of_employees</th>\n",
       "      <th>work_hours_per_week</th>\n",
       "      <th>city_population</th>\n",
       "      <th>sector</th>\n",
       "      <th>lf_jobs</th>\n",
       "      <th>career_plans</th>\n",
       "      <th>gender</th>\n",
       "      <th>other_job_duties</th>\n",
       "    </tr>\n",
       "  </thead>\n",
       "  <tbody>\n",
       "    <tr>\n",
       "      <th>0</th>\n",
       "      <td>115000</td>\n",
       "      <td>United States</td>\n",
       "      <td>03</td>\n",
       "      <td>Full time employee</td>\n",
       "      <td>DBA (Production Focus - build &amp; troubleshoot s...</td>\n",
       "      <td>No</td>\n",
       "      <td>5</td>\n",
       "      <td>1 (this is the only company where I've had thi...</td>\n",
       "      <td>2</td>\n",
       "      <td>Not Asked</td>\n",
       "      <td>Not Asked</td>\n",
       "      <td>20K-99K (large town)</td>\n",
       "      <td>Private business</td>\n",
       "      <td>Not Asked</td>\n",
       "      <td>Stay with the same employer, same role</td>\n",
       "      <td>Male</td>\n",
       "      <td>Not Asked</td>\n",
       "    </tr>\n",
       "  </tbody>\n",
       "</table>\n",
       "</div>"
      ],
      "text/plain": [
       "   salary       location postal_code              status  \\\n",
       "0  115000  United States          03  Full time employee   \n",
       "\n",
       "                                           job_title manage  experience  \\\n",
       "0  DBA (Production Focus - build & troubleshoot s...     No           5   \n",
       "\n",
       "                                   num_of_compagnies team_size  \\\n",
       "0  1 (this is the only company where I've had thi...         2   \n",
       "\n",
       "  num_of_employees work_hours_per_week       city_population  \\\n",
       "0        Not Asked           Not Asked  20K-99K (large town)   \n",
       "\n",
       "             sector    lf_jobs                            career_plans gender  \\\n",
       "0  Private business  Not Asked  Stay with the same employer, same role   Male   \n",
       "\n",
       "  other_job_duties  \n",
       "0        Not Asked  "
      ]
     },
     "metadata": {},
     "output_type": "display_data"
    }
   ],
   "source": [
    "df = survey_df.copy()\n",
    "\n",
    "\n",
    "\n",
    "key_cols = ['SalaryUSD','Country','PostalCode','EmploymentStatus','JobTitle','ManageStaff','YearsWithThisTypeOfJob',\n",
    "          'HowManyCompanies','OtherPeopleOnYourTeam', 'CompanyEmployeesOverall',\"HoursWorkedPerWeek\",\n",
    "          'PopulationOfLargestCityWithin20Miles','EmploymentSector', 'LookingForAnotherJob', 'CareerPlansThisYear',\n",
    "          'Gender', 'OtherJobDuties']\n",
    "\n",
    "names_cols = {\n",
    "    \"Country\": \"location\",\n",
    "    \"SalaryUSD\": \"salary\",\n",
    "    \"JobTitle\": \"job_title\",\n",
    "    \"YearsWithThisTypeOfJob\": \"experience\",\n",
    "    \"HowManyCompanies\": \"num_of_compagnies\",\n",
    "    \"OtherPeopleOnYourTeam\": \"team_size\",\n",
    "    \"HoursWorkedPerWeek\": \"work_hours_per_week\",\n",
    "    \"EmploymentStatus\": \"status\",\n",
    "    \"LookingForAnotherJob\": \"lf_jobs\",\n",
    "    \"PostalCode\": \"postal_code\",\n",
    "    \"ManageStaff\": \"manage\",\n",
    "    \"CompanyEmployeesOverall\": \"num_of_employees\",\n",
    "    \"PopulationOfLargestCityWithin20Miles\": \"city_population\",\n",
    "    \"EmploymentSector\" : \"sector\",\n",
    "    \"CareerPlansThisYear\": \"career_plans\",\n",
    "    \"OtherJobDuties\": \"other_job_duties\"   \n",
    "}\n",
    "\n",
    "\n",
    "md(\"**before**\")\n",
    "display(df.head(1))\n",
    "\n",
    "df = df[key_cols]\n",
    "rename_cols(df, names_cols)\n",
    "\n",
    "md(\"**after**\")\n",
    "display(df.head(1))\n",
    "\n",
    "\n",
    "\n",
    "\n"
   ]
  },
  {
   "cell_type": "markdown",
   "metadata": {},
   "source": [
    "## Les valeurs vides\n",
    "\n",
    "* 1390 valeurs vides dans postal_code: rien à faire, on ne peut pas prendre une valeur fictive, la variable est secondaire par conséquent on ne va pas supprimer la ligne.\n",
    "* 620 valeurs vides dans other_job_duties: rien à faire"
   ]
  },
  {
   "cell_type": "code",
   "execution_count": 22,
   "metadata": {},
   "outputs": [
    {
     "data": {
      "text/plain": [
       "salary                    0\n",
       "location                  0\n",
       "postal_code            1390\n",
       "status                    0\n",
       "job_title                 0\n",
       "manage                    0\n",
       "experience                0\n",
       "num_of_compagnies         0\n",
       "team_size                 0\n",
       "num_of_employees          0\n",
       "work_hours_per_week       0\n",
       "city_population           0\n",
       "sector                    0\n",
       "lf_jobs                   0\n",
       "career_plans              0\n",
       "gender                    0\n",
       "other_job_duties        620\n",
       "dtype: int64"
      ]
     },
     "metadata": {},
     "output_type": "display_data"
    }
   ],
   "source": [
    "display(df.isna().sum())"
   ]
  },
  {
   "cell_type": "markdown",
   "metadata": {},
   "source": [
    "## Reformatage\n",
    "\n",
    "* *postal_code*\n",
    "On écarte cette colonne car elle aurait besoin d'un grand nettoyage et on ne sait pas encore si on va l'utiliser\n",
    "\n",
    "* *job_title*\n",
    "** On regroupe les jobs avec moins de 10 personnes dans la catégorie Other qui existe déjà\n",
    "** On regroupe tous les jobs en lien avec la DBA\n",
    "\n",
    "* *num_of_compagnies*\n",
    "** On souhaite juste garder le chiffre pour cela on transforme le Not Asked en None et on capture juste le premier caractère\n",
    "** On cast en float\n",
    "\n",
    "* *team_size*\n",
    "** On garde juste le chiffre, *More than 5* devient 6, on parse le None et on cast en float\n",
    "\n",
    "* *num_of_employees*\n",
    "** On veut fusionne deux intervalles car 1-5 n'apparait que 15 fois\n",
    "\n",
    "* *sector*\n",
    "** On supprime les étudiants qui ne sont pas la cibles de notre étude et sont en très faible effectif\n",
    "\n",
    "* *gender*\n",
    "** la colonne gender doit être réduite au sacrifice de l'incoyable diversité on ne gardera que les hommes et les femmes\n",
    "\n",
    "* Les valeurs *Not Asked* deviennent None pour ne pas être intégré aux calculs\n"
   ]
  },
  {
   "cell_type": "code",
   "execution_count": 23,
   "metadata": {},
   "outputs": [
    {
     "data": {
      "text/markdown": [
       "## after"
      ],
      "text/plain": [
       "<IPython.core.display.Markdown object>"
      ]
     },
     "metadata": {},
     "output_type": "display_data"
    },
    {
     "name": "stdout",
     "output_type": "stream",
     "text": [
      "----------------------------------------------------------------------\n"
     ]
    },
    {
     "data": {
      "text/markdown": [
       "##### **job_title**"
      ],
      "text/plain": [
       "<IPython.core.display.Markdown object>"
      ]
     },
     "metadata": {},
     "output_type": "display_data"
    },
    {
     "name": "stdout",
     "output_type": "stream",
     "text": [
      "----------------------------------------------------------------------\n"
     ]
    },
    {
     "data": {
      "text/plain": [
       "DBA                                                      4344\n",
       "Developer: T-SQL                                          826\n",
       "Architect                                                 660\n",
       "Developer: Business Intelligence (SSRS, PowerBI, etc)     610\n",
       "Developer: App code (C#, JS, etc)                         586\n",
       "Manager                                                   506\n",
       "Analyst                                                   487\n",
       "Engineer                                                  391\n",
       "Other                                                     153\n",
       "Data Scientist                                             55\n",
       "Name: job_title, dtype: int64"
      ]
     },
     "metadata": {},
     "output_type": "display_data"
    },
    {
     "name": "stdout",
     "output_type": "stream",
     "text": [
      "----------------------------------------------------------------------\n"
     ]
    },
    {
     "data": {
      "text/markdown": [
       "##### **num_of_compagnies**"
      ],
      "text/plain": [
       "<IPython.core.display.Markdown object>"
      ]
     },
     "metadata": {},
     "output_type": "display_data"
    },
    {
     "name": "stdout",
     "output_type": "stream",
     "text": [
      "----------------------------------------------------------------------\n"
     ]
    },
    {
     "data": {
      "text/plain": [
       "1    923\n",
       "2    770\n",
       "3    457\n",
       "4    198\n",
       "6    153\n",
       "5    115\n",
       "Name: num_of_compagnies, dtype: int64"
      ]
     },
     "metadata": {},
     "output_type": "display_data"
    },
    {
     "name": "stdout",
     "output_type": "stream",
     "text": [
      "----------------------------------------------------------------------\n"
     ]
    },
    {
     "data": {
      "text/markdown": [
       "##### **team_size**"
      ],
      "text/plain": [
       "<IPython.core.display.Markdown object>"
      ]
     },
     "metadata": {},
     "output_type": "display_data"
    },
    {
     "name": "stdout",
     "output_type": "stream",
     "text": [
      "----------------------------------------------------------------------\n"
     ]
    },
    {
     "data": {
      "text/plain": [
       "1    1820\n",
       "2    1075\n",
       "6     887\n",
       "3     732\n",
       "4     474\n",
       "5     316\n",
       "Name: team_size, dtype: int64"
      ]
     },
     "metadata": {},
     "output_type": "display_data"
    },
    {
     "name": "stdout",
     "output_type": "stream",
     "text": [
      "----------------------------------------------------------------------\n"
     ]
    },
    {
     "data": {
      "text/markdown": [
       "##### **num_of_employees**"
      ],
      "text/plain": [
       "<IPython.core.display.Markdown object>"
      ]
     },
     "metadata": {},
     "output_type": "display_data"
    },
    {
     "name": "stdout",
     "output_type": "stream",
     "text": [
      "----------------------------------------------------------------------\n"
     ]
    },
    {
     "data": {
      "text/plain": [
       "1000 or more    379\n",
       "1-99            141\n",
       "100-249         126\n",
       "500-999         119\n",
       "250-499         117\n",
       "Name: num_of_employees, dtype: int64"
      ]
     },
     "metadata": {},
     "output_type": "display_data"
    },
    {
     "name": "stdout",
     "output_type": "stream",
     "text": [
      "----------------------------------------------------------------------\n"
     ]
    },
    {
     "data": {
      "text/markdown": [
       "##### **sector**"
      ],
      "text/plain": [
       "<IPython.core.display.Markdown object>"
      ]
     },
     "metadata": {},
     "output_type": "display_data"
    },
    {
     "name": "stdout",
     "output_type": "stream",
     "text": [
      "----------------------------------------------------------------------\n"
     ]
    },
    {
     "data": {
      "text/plain": [
       "Private business                         7167\n",
       "State/province government                 377\n",
       "Local government                          322\n",
       "Non-profit                                317\n",
       "Federal government                        225\n",
       "Education (K-12, college, university)     210\n",
       "Name: sector, dtype: int64"
      ]
     },
     "metadata": {},
     "output_type": "display_data"
    },
    {
     "name": "stdout",
     "output_type": "stream",
     "text": [
      "----------------------------------------------------------------------\n"
     ]
    },
    {
     "data": {
      "text/markdown": [
       "##### **gender**"
      ],
      "text/plain": [
       "<IPython.core.display.Markdown object>"
      ]
     },
     "metadata": {},
     "output_type": "display_data"
    },
    {
     "name": "stdout",
     "output_type": "stream",
     "text": [
      "----------------------------------------------------------------------\n"
     ]
    },
    {
     "data": {
      "text/plain": [
       "Male      5058\n",
       "Female     564\n",
       "Name: gender, dtype: int64"
      ]
     },
     "metadata": {},
     "output_type": "display_data"
    },
    {
     "data": {
      "text/plain": [
       "salary                 float64\n",
       "location                object\n",
       "postal_code             object\n",
       "status                  object\n",
       "job_title               object\n",
       "manage                  object\n",
       "experience               int64\n",
       "num_of_compagnies      float64\n",
       "team_size               object\n",
       "num_of_employees        object\n",
       "work_hours_per_week    float64\n",
       "city_population         object\n",
       "sector                  object\n",
       "lf_jobs                 object\n",
       "career_plans            object\n",
       "gender                  object\n",
       "other_job_duties        object\n",
       "dtype: object"
      ]
     },
     "execution_count": 23,
     "metadata": {},
     "output_type": "execute_result"
    }
   ],
   "source": [
    "\n",
    "\n",
    "\n",
    "\n",
    "# job_title\n",
    "# On regroupe les jobs avec moins de 10 personnes dans la catégorie Other qui existe déjà\n",
    "vc = df[\"job_title\"].value_counts()\n",
    "df[\"job_title\"] = np.where(df[\"job_title\"].isin(vc.index[vc >= 10]), df[\"job_title\"], 'Other')\n",
    "# On regroupe tous les jobs en lien avec la DBA\n",
    "df.loc[(df[\"job_title\"].str.contains(\"DBA\")), \"job_title\"] = \"DBA\"\n",
    "\n",
    "#work_hours_per_week\n",
    "df.loc[(df[\"work_hours_per_week\"] == \"Not Asked\"), \"work_hours_per_week\"] = None\n",
    "df['work_hours_per_week'] = df['work_hours_per_week'].astype(\"float\")\n",
    "\n",
    "\n",
    "# num_of_compagnies\n",
    "# On veut juste garder le chiffre pour cela on transforme le Not Asked en None et on capture juste le premier caractère\n",
    "df['num_of_compagnies'] = df['num_of_compagnies'].apply(lambda x: str(x)[0])\n",
    "df.loc[(df[\"num_of_compagnies\"] == \"N\"), \"num_of_compagnies\"] = None\n",
    "# on cast en float\n",
    "df['num_of_compagnies'] = df['num_of_compagnies'].astype(\"float\")\n",
    "\n",
    "# team_size\n",
    "# On garde juste le chiffre, More than 5 devient 6, on parse le None et on cast en float\n",
    "df.loc[(df[\"team_size\"] == \"None\"), \"team_size\"] = None\n",
    "df.loc[df['team_size'] == \"More than 5\", \"team_size\"] = 6\n",
    "df['team_size'] = df['team_size'].astype(\"float\")\n",
    "\n",
    "# num_of_employees\n",
    "# On veut fusionne deux intervalles car 1-5 n'apparait que 15 fois\n",
    "df.loc[(df[\"num_of_employees\"] == \"1-5\"), \"num_of_employees\"] = \"1-99\"\n",
    "df.loc[(df[\"num_of_employees\"] == \"6-99\"), \"num_of_employees\"] = \"1-99\"\n",
    "df.loc[(df[\"num_of_employees\"] == \"Not Asked\"), \"num_of_employees\"] = None\n",
    "\n",
    "# sector\n",
    "# on supprime les étudiants qui ne sont pas la cibles de notre étude et sont en très faible effectif\n",
    "df = df[df['sector'] != \"Student\"]\n",
    "\n",
    "# gender\n",
    "# On ne garde que les hommes et les femmes dans la colonne gender\n",
    "valid_genders = [\"Male\", \"Female\"]\n",
    "df.loc[~df['gender'].isin(valid_genders), \"gender\"] = None\n",
    "\n",
    "#Les valeurs *Not Asked* deviennent None pour ne pas être intégré aux calculs\n",
    "#city_population\n",
    "df.loc[(df[\"city_population\"] == \"Not Asked\"), \"city_population\"] = None\n",
    "#lf_jobs\n",
    "df.loc[(df[\"lf_jobs\"] == \"Not Asked\"), \"lf_jobs\"] = None\n",
    "# career_plans\n",
    "df.loc[(df[\"career_plans\"] == \"Not Asked\"), \"career_plans\"] = None\n",
    "# other_job_duties\n",
    "df.loc[(df[\"other_job_duties\"] == \"Not Asked\"), \"other_job_duties\"] = None\n",
    "\n",
    "md(\"## after\")\n",
    "cols = [\"job_title\", 'num_of_compagnies', \"team_size\", \"num_of_employees\", \"sector\", \"gender\"]\n",
    "for col in cols:\n",
    "    line(col)\n",
    "    display(df[col].value_counts())\n",
    "    \n",
    "df.dtypes"
   ]
  },
  {
   "cell_type": "markdown",
   "metadata": {},
   "source": [
    "## Données aberrantes\n",
    "\n",
    "** Comme le salaire est le centre de notre étude on sera vigilant a ne supprimmer que des valeurs inutilisables, on aura donc tendance à conserve les outliers pour mieux coller à la réalité, on peut supprimer les cinq individus les plus riches qui se détachent clairement > 900k. C'est un salaire annuel, en dessous de 25k$ on peut considérer que la valeur n'est pas pertinente. On perd ainsi 4% de nos données. Si on supprimait aussi les outliers on perdrait 6% des valeurs et notre étude ne prendrait plus en compte les plus riches qui ont peut être des choses à nous apprendre... Si on doit interpréter la médiane on gardera en tête que notre distribution n'est ainsi pas centrée. Concernant l'expérience aucune raison de supprimer les outliers qui sont valides. Le nombre d'heure travaillées par semaine est limité à 15h/jour.**"
   ]
  },
  {
   "cell_type": "code",
   "execution_count": 24,
   "metadata": {},
   "outputs": [
    {
     "data": {
      "text/markdown": [
       "### Salaire"
      ],
      "text/plain": [
       "<IPython.core.display.Markdown object>"
      ]
     },
     "metadata": {},
     "output_type": "display_data"
    },
    {
     "data": {
      "text/markdown": [
       "**before**"
      ],
      "text/plain": [
       "<IPython.core.display.Markdown object>"
      ]
     },
     "metadata": {},
     "output_type": "display_data"
    },
    {
     "data": {
      "text/plain": [
       "count      8618\n",
       "mean      93970\n",
       "std       60006\n",
       "min           0\n",
       "25%       65000\n",
       "50%       90000\n",
       "75%      115000\n",
       "max     1850000\n",
       "Name: salary, dtype: float64"
      ]
     },
     "metadata": {},
     "output_type": "display_data"
    },
    {
     "name": "stdout",
     "output_type": "stream",
     "text": [
      "-------------------\n",
      "nombre de valeurs perdues:  344 / 3.991645393362729 %\n",
      "-------------------\n"
     ]
    },
    {
     "data": {
      "text/markdown": [
       "**after**"
      ],
      "text/plain": [
       "<IPython.core.display.Markdown object>"
      ]
     },
     "metadata": {},
     "output_type": "display_data"
    },
    {
     "data": {
      "text/plain": [
       "count     8274\n",
       "mean     96219\n",
       "std      46648\n",
       "min      25500\n",
       "25%      68000\n",
       "50%      92000\n",
       "75%     116000\n",
       "max     833600\n",
       "Name: salary, dtype: float64"
      ]
     },
     "metadata": {},
     "output_type": "display_data"
    },
    {
     "data": {
      "image/png": "[encoded data removed]",
      "text/plain": [
       "<Figure size 1152x432 with 1 Axes>"
      ]
     },
     "metadata": {
      "needs_background": "light"
     },
     "output_type": "display_data"
    }
   ],
   "source": [
    "md(\"### Salaire\")\n",
    "\n",
    "md(\"**before**\")\n",
    "before_counts = df[\"salary\"].size\n",
    "display(df[\"salary\"].describe())\n",
    "\n",
    "# salaires bas\n",
    "df = df[df.salary > 25000]\n",
    "# salaires haut\n",
    "df = df[df.salary < 900000]\n",
    "plt.figure(figsize=(16, 6))\n",
    "sns.boxplot(x=df[\"salary\"])\n",
    "\n",
    "after_counts = df[\"salary\"].size\n",
    "loss = before_counts - after_counts\n",
    "print('-------------------')\n",
    "print(\"nombre de valeurs perdues: \", before_counts - after_counts, \"/\",  (loss/before_counts)*100, \"%\")\n",
    "print('-------------------')\n",
    "\n",
    "md(\"**after**\")\n",
    "display(df[\"salary\"].describe())"
   ]
  },
  {
   "cell_type": "code",
   "execution_count": 25,
   "metadata": {},
   "outputs": [
    {
     "data": {
      "text/markdown": [
       "### work_hours_per_week"
      ],
      "text/plain": [
       "<IPython.core.display.Markdown object>"
      ]
     },
     "metadata": {},
     "output_type": "display_data"
    },
    {
     "data": {
      "text/markdown": [
       "**before**"
      ],
      "text/plain": [
       "<IPython.core.display.Markdown object>"
      ]
     },
     "metadata": {},
     "output_type": "display_data"
    },
    {
     "data": {
      "text/plain": [
       "count   6600\n",
       "mean      43\n",
       "std        7\n",
       "min        6\n",
       "25%       40\n",
       "50%       40\n",
       "75%       45\n",
       "max      200\n",
       "Name: work_hours_per_week, dtype: float64"
      ]
     },
     "metadata": {},
     "output_type": "display_data"
    },
    {
     "data": {
      "text/markdown": [
       "**after**"
      ],
      "text/plain": [
       "<IPython.core.display.Markdown object>"
      ]
     },
     "metadata": {},
     "output_type": "display_data"
    },
    {
     "data": {
      "text/plain": [
       "count   6598\n",
       "mean      43\n",
       "std        6\n",
       "min        6\n",
       "25%       40\n",
       "50%       40\n",
       "75%       45\n",
       "max      100\n",
       "Name: work_hours_per_week, dtype: float64"
      ]
     },
     "metadata": {},
     "output_type": "display_data"
    }
   ],
   "source": [
    "md(\"### work_hours_per_week\")\n",
    "md(\"**before**\")\n",
    "display(df[\"work_hours_per_week\"].describe())\n",
    "\n",
    "#Au dela de 15h (105/week) par jour on peut estimer que la valeur n'est pas pertinente\n",
    "df.loc[(df[\"work_hours_per_week\"] > 105), \"work_hours_per_week\"] = None\n",
    "\n",
    "md(\"**after**\")\n",
    "display(df[\"work_hours_per_week\"].describe())\n"
   ]
  },
  {
   "cell_type": "code",
   "execution_count": 26,
   "metadata": {},
   "outputs": [
    {
     "data": {
      "text/markdown": [
       "### Experience"
      ],
      "text/plain": [
       "<IPython.core.display.Markdown object>"
      ]
     },
     "metadata": {},
     "output_type": "display_data"
    },
    {
     "data": {
      "text/plain": [
       "count   8274\n",
       "mean       8\n",
       "std        7\n",
       "min        0\n",
       "25%        3\n",
       "50%        5\n",
       "75%       10\n",
       "max       45\n",
       "Name: experience, dtype: float64"
      ]
     },
     "metadata": {},
     "output_type": "display_data"
    },
    {
     "data": {
      "text/plain": [
       "<AxesSubplot:xlabel='experience'>"
      ]
     },
     "execution_count": 26,
     "metadata": {},
     "output_type": "execute_result"
    },
    {
     "data": {
      "image/png": "[encoded data removed]",
      "text/plain": [
       "<Figure size 1152x432 with 1 Axes>"
      ]
     },
     "metadata": {
      "needs_background": "light"
     },
     "output_type": "display_data"
    }
   ],
   "source": [
    "\n",
    "md(\"### Experience\")\n",
    "\n",
    "display(df[\"experience\"].describe())\n",
    "plt.figure(figsize=(16, 6))\n",
    "sns.boxplot(x=df[\"experience\"])"
   ]
  },
  {
   "cell_type": "code",
   "execution_count": 27,
   "metadata": {},
   "outputs": [
    {
     "data": {
      "text/plain": [
       "salary                 float64\n",
       "location                object\n",
       "postal_code             object\n",
       "status                  object\n",
       "job_title               object\n",
       "manage                  object\n",
       "experience               int64\n",
       "num_of_compagnies      float64\n",
       "team_size               object\n",
       "num_of_employees        object\n",
       "work_hours_per_week    float64\n",
       "city_population         object\n",
       "sector                  object\n",
       "lf_jobs                 object\n",
       "career_plans            object\n",
       "gender                  object\n",
       "other_job_duties        object\n",
       "dtype: object"
      ]
     },
     "execution_count": 27,
     "metadata": {},
     "output_type": "execute_result"
    }
   ],
   "source": [
    "survey_df_clean = df.copy()\n",
    "## copie du dataframe corrigé, on passe au suivant...!"
   ]
  },
  {
   "cell_type": "markdown",
   "metadata": {},
   "source": [
    "# **Dataset Data Analyst Jobs**"
   ]
  },
  {
   "cell_type": "markdown",
   "metadata": {},
   "source": [
    "### Aperçu\n",
    "\n",
    "utilisation des fonctions head, shape et dtypes pour avori un apercu des données"
   ]
  },
  {
   "cell_type": "code",
   "execution_count": 28,
   "metadata": {},
   "outputs": [
    {
     "data": {
      "text/markdown": [
       "## Data Analyst Jobs"
      ],
      "text/plain": [
       "<IPython.core.display.Markdown object>"
      ]
     },
     "metadata": {},
     "output_type": "display_data"
    },
    {
     "data": {
      "text/markdown": [
       "**Shape**"
      ],
      "text/plain": [
       "<IPython.core.display.Markdown object>"
      ]
     },
     "metadata": {},
     "output_type": "display_data"
    },
    {
     "data": {
      "text/plain": [
       "(2253, 15)"
      ]
     },
     "metadata": {},
     "output_type": "display_data"
    },
    {
     "data": {
      "text/markdown": [
       "**Sample**"
      ],
      "text/plain": [
       "<IPython.core.display.Markdown object>"
      ]
     },
     "metadata": {},
     "output_type": "display_data"
    },
    {
     "data": {
      "text/markdown": [
       "**Types**"
      ],
      "text/plain": [
       "<IPython.core.display.Markdown object>"
      ]
     },
     "metadata": {},
     "output_type": "display_data"
    },
    {
     "data": {
      "text/plain": [
       "Job Title             object\n",
       "Salary Estimate       object\n",
       "Job Description       object\n",
       "Rating               float64\n",
       "Company Name          object\n",
       "Location              object\n",
       "Headquarters          object\n",
       "Size                  object\n",
       "Founded                int64\n",
       "Type of ownership     object\n",
       "Industry              object\n",
       "Sector                object\n",
       "Revenue               object\n",
       "Competitors           object\n",
       "Easy Apply            object\n",
       "dtype: object"
      ]
     },
     "metadata": {},
     "output_type": "display_data"
    },
    {
     "data": {
      "text/markdown": [
       "**Sample**"
      ],
      "text/plain": [
       "<IPython.core.display.Markdown object>"
      ]
     },
     "metadata": {},
     "output_type": "display_data"
    },
    {
     "data": {
      "text/html": [
       "<div>\n",
       "<style scoped>\n",
       "    .dataframe tbody tr th:only-of-type {\n",
       "        vertical-align: middle;\n",
       "    }\n",
       "\n",
       "    .dataframe tbody tr th {\n",
       "        vertical-align: top;\n",
       "    }\n",
       "\n",
       "    .dataframe thead th {\n",
       "        text-align: right;\n",
       "    }\n",
       "</style>\n",
       "<table border=\"1\" class=\"dataframe\">\n",
       "  <thead>\n",
       "    <tr style=\"text-align: right;\">\n",
       "      <th></th>\n",
       "      <th>Job Title</th>\n",
       "      <th>Salary Estimate</th>\n",
       "      <th>Job Description</th>\n",
       "      <th>Rating</th>\n",
       "      <th>Company Name</th>\n",
       "      <th>Location</th>\n",
       "      <th>Headquarters</th>\n",
       "      <th>Size</th>\n",
       "      <th>Founded</th>\n",
       "      <th>Type of ownership</th>\n",
       "      <th>Industry</th>\n",
       "      <th>Sector</th>\n",
       "      <th>Revenue</th>\n",
       "      <th>Competitors</th>\n",
       "      <th>Easy Apply</th>\n",
       "    </tr>\n",
       "  </thead>\n",
       "  <tbody>\n",
       "    <tr>\n",
       "      <th>2225</th>\n",
       "      <td>Sr Data Analyst</td>\n",
       "      <td>$57K-$100K (Glassdoor est.)</td>\n",
       "      <td>We work to solve deep technical problems that ...</td>\n",
       "      <td>4</td>\n",
       "      <td>Global Healthcare Exchange\\n3.7</td>\n",
       "      <td>Louisville, CO</td>\n",
       "      <td>Louisville, CO</td>\n",
       "      <td>501 to 1000 employees</td>\n",
       "      <td>2000</td>\n",
       "      <td>Company - Private</td>\n",
       "      <td>Enterprise Software &amp; Network Solutions</td>\n",
       "      <td>Information Technology</td>\n",
       "      <td>$10 to $25 million (USD)</td>\n",
       "      <td>Premier, Inc., Vizient</td>\n",
       "      <td>-1</td>\n",
       "    </tr>\n",
       "    <tr>\n",
       "      <th>974</th>\n",
       "      <td>Senior Data Analyst</td>\n",
       "      <td>$53K-$94K (Glassdoor est.)</td>\n",
       "      <td>Job Description\\n\\n\\nHere at Discount Tire, we...</td>\n",
       "      <td>4</td>\n",
       "      <td>Discount Tire\\n4.0</td>\n",
       "      <td>Scottsdale, AZ</td>\n",
       "      <td>Scottsdale, AZ</td>\n",
       "      <td>10000+ employees</td>\n",
       "      <td>1960</td>\n",
       "      <td>Company - Private</td>\n",
       "      <td>Automotive Parts &amp; Accessories Stores</td>\n",
       "      <td>Retail</td>\n",
       "      <td>$2 to $5 billion (USD)</td>\n",
       "      <td>Big O Tires, Les Schwab Tire Centers, Pep Boys</td>\n",
       "      <td>-1</td>\n",
       "    </tr>\n",
       "    <tr>\n",
       "      <th>61</th>\n",
       "      <td>Data Analyst - Data Acquisition / Data Lineage</td>\n",
       "      <td>$51K-$88K (Glassdoor est.)</td>\n",
       "      <td>OverviewAt Perficient you'll deliver mission-c...</td>\n",
       "      <td>4</td>\n",
       "      <td>Perficient\\n3.6</td>\n",
       "      <td>New York, NY</td>\n",
       "      <td>Saint Louis, MO</td>\n",
       "      <td>1001 to 5000 employees</td>\n",
       "      <td>1998</td>\n",
       "      <td>Company - Public</td>\n",
       "      <td>IT Services</td>\n",
       "      <td>Information Technology</td>\n",
       "      <td>$500 million to $1 billion (USD)</td>\n",
       "      <td>-1</td>\n",
       "      <td>-1</td>\n",
       "    </tr>\n",
       "    <tr>\n",
       "      <th>918</th>\n",
       "      <td>Data Analyst MDM</td>\n",
       "      <td>$47K-$76K (Glassdoor est.)</td>\n",
       "      <td>Master Data Management (MDM) Data Analyst Hous...</td>\n",
       "      <td>1</td>\n",
       "      <td>Encore Consulting Services\\n1.0</td>\n",
       "      <td>Houston, TX</td>\n",
       "      <td>Arlington Heights, IL</td>\n",
       "      <td>1 to 50 employees</td>\n",
       "      <td>-1</td>\n",
       "      <td>Company - Private</td>\n",
       "      <td>-1</td>\n",
       "      <td>-1</td>\n",
       "      <td>$5 to $10 million (USD)</td>\n",
       "      <td>-1</td>\n",
       "      <td>-1</td>\n",
       "    </tr>\n",
       "    <tr>\n",
       "      <th>1656</th>\n",
       "      <td>Junior Data Analyst</td>\n",
       "      <td>$42K-$76K (Glassdoor est.)</td>\n",
       "      <td>Job Description\\nJob description\\nInterpret da...</td>\n",
       "      <td>5</td>\n",
       "      <td>Staffigo Technical Services, LLC\\n5.0</td>\n",
       "      <td>Austin, TX</td>\n",
       "      <td>Woodridge, IL</td>\n",
       "      <td>51 to 200 employees</td>\n",
       "      <td>2008</td>\n",
       "      <td>Company - Private</td>\n",
       "      <td>IT Services</td>\n",
       "      <td>Information Technology</td>\n",
       "      <td>$50 to $100 million (USD)</td>\n",
       "      <td>-1</td>\n",
       "      <td>-1</td>\n",
       "    </tr>\n",
       "  </tbody>\n",
       "</table>\n",
       "</div>"
      ],
      "text/plain": [
       "                                           Job Title  \\\n",
       "2225                                 Sr Data Analyst   \n",
       "974                              Senior Data Analyst   \n",
       "61    Data Analyst - Data Acquisition / Data Lineage   \n",
       "918                                 Data Analyst MDM   \n",
       "1656                             Junior Data Analyst   \n",
       "\n",
       "                  Salary Estimate  \\\n",
       "2225  $57K-$100K (Glassdoor est.)   \n",
       "974    $53K-$94K (Glassdoor est.)   \n",
       "61     $51K-$88K (Glassdoor est.)   \n",
       "918    $47K-$76K (Glassdoor est.)   \n",
       "1656   $42K-$76K (Glassdoor est.)   \n",
       "\n",
       "                                        Job Description  Rating  \\\n",
       "2225  We work to solve deep technical problems that ...       4   \n",
       "974   Job Description\\n\\n\\nHere at Discount Tire, we...       4   \n",
       "61    OverviewAt Perficient you'll deliver mission-c...       4   \n",
       "918   Master Data Management (MDM) Data Analyst Hous...       1   \n",
       "1656  Job Description\\nJob description\\nInterpret da...       5   \n",
       "\n",
       "                               Company Name        Location  \\\n",
       "2225        Global Healthcare Exchange\\n3.7  Louisville, CO   \n",
       "974                      Discount Tire\\n4.0  Scottsdale, AZ   \n",
       "61                          Perficient\\n3.6    New York, NY   \n",
       "918         Encore Consulting Services\\n1.0     Houston, TX   \n",
       "1656  Staffigo Technical Services, LLC\\n5.0      Austin, TX   \n",
       "\n",
       "               Headquarters                    Size  Founded  \\\n",
       "2225         Louisville, CO   501 to 1000 employees     2000   \n",
       "974          Scottsdale, AZ        10000+ employees     1960   \n",
       "61          Saint Louis, MO  1001 to 5000 employees     1998   \n",
       "918   Arlington Heights, IL       1 to 50 employees       -1   \n",
       "1656          Woodridge, IL     51 to 200 employees     2008   \n",
       "\n",
       "      Type of ownership                                 Industry  \\\n",
       "2225  Company - Private  Enterprise Software & Network Solutions   \n",
       "974   Company - Private    Automotive Parts & Accessories Stores   \n",
       "61     Company - Public                              IT Services   \n",
       "918   Company - Private                                       -1   \n",
       "1656  Company - Private                              IT Services   \n",
       "\n",
       "                      Sector                           Revenue  \\\n",
       "2225  Information Technology          $10 to $25 million (USD)   \n",
       "974                   Retail            $2 to $5 billion (USD)   \n",
       "61    Information Technology  $500 million to $1 billion (USD)   \n",
       "918                       -1           $5 to $10 million (USD)   \n",
       "1656  Information Technology         $50 to $100 million (USD)   \n",
       "\n",
       "                                         Competitors Easy Apply  \n",
       "2225                          Premier, Inc., Vizient         -1  \n",
       "974   Big O Tires, Les Schwab Tire Centers, Pep Boys         -1  \n",
       "61                                                -1         -1  \n",
       "918                                               -1         -1  \n",
       "1656                                              -1         -1  "
      ]
     },
     "metadata": {},
     "output_type": "display_data"
    }
   ],
   "source": [
    "df = analyst_df.copy() \n",
    "quick_view(df, \"Data Analyst Jobs\")"
   ]
  },
  {
   "cell_type": "markdown",
   "metadata": {},
   "source": [
    "## Supprimer les lignes en double"
   ]
  },
  {
   "cell_type": "code",
   "execution_count": 29,
   "metadata": {},
   "outputs": [
    {
     "data": {
      "text/markdown": [
       "*Aucune ligne dupliquée*"
      ],
      "text/plain": [
       "<IPython.core.display.Markdown object>"
      ]
     },
     "metadata": {},
     "output_type": "display_data"
    }
   ],
   "source": [
    "show_duplicated_rows(df)"
   ]
  },
  {
   "cell_type": "markdown",
   "metadata": {},
   "source": [
    "## Filtrer et renommer les colonnes\n",
    "\n",
    "Filtrage des colonnes pour ne garder que les données necessaires à l'étude, on s'appuie sur le nom des colonnes qui est assez explicite.\n",
    "Renommage des colonnes pour mieux travailler (cohérence, standardisation, export en sql...)"
   ]
  },
  {
   "cell_type": "code",
   "execution_count": 30,
   "metadata": {},
   "outputs": [
    {
     "data": {
      "text/markdown": [
       "**before**"
      ],
      "text/plain": [
       "<IPython.core.display.Markdown object>"
      ]
     },
     "metadata": {},
     "output_type": "display_data"
    },
    {
     "data": {
      "text/html": [
       "<div>\n",
       "<style scoped>\n",
       "    .dataframe tbody tr th:only-of-type {\n",
       "        vertical-align: middle;\n",
       "    }\n",
       "\n",
       "    .dataframe tbody tr th {\n",
       "        vertical-align: top;\n",
       "    }\n",
       "\n",
       "    .dataframe thead th {\n",
       "        text-align: right;\n",
       "    }\n",
       "</style>\n",
       "<table border=\"1\" class=\"dataframe\">\n",
       "  <thead>\n",
       "    <tr style=\"text-align: right;\">\n",
       "      <th></th>\n",
       "      <th>Job Title</th>\n",
       "      <th>Salary Estimate</th>\n",
       "      <th>Job Description</th>\n",
       "      <th>Rating</th>\n",
       "      <th>Company Name</th>\n",
       "      <th>Location</th>\n",
       "      <th>Headquarters</th>\n",
       "      <th>Size</th>\n",
       "      <th>Founded</th>\n",
       "      <th>Type of ownership</th>\n",
       "      <th>Industry</th>\n",
       "      <th>Sector</th>\n",
       "      <th>Revenue</th>\n",
       "      <th>Competitors</th>\n",
       "      <th>Easy Apply</th>\n",
       "    </tr>\n",
       "  </thead>\n",
       "  <tbody>\n",
       "    <tr>\n",
       "      <th>0</th>\n",
       "      <td>Data Analyst, Center on Immigration and Justic...</td>\n",
       "      <td>$37K-$66K (Glassdoor est.)</td>\n",
       "      <td>Are you eager to roll up your sleeves and harn...</td>\n",
       "      <td>3</td>\n",
       "      <td>Vera Institute of Justice\\n3.2</td>\n",
       "      <td>New York, NY</td>\n",
       "      <td>New York, NY</td>\n",
       "      <td>201 to 500 employees</td>\n",
       "      <td>1961</td>\n",
       "      <td>Nonprofit Organization</td>\n",
       "      <td>Social Assistance</td>\n",
       "      <td>Non-Profit</td>\n",
       "      <td>$100 to $500 million (USD)</td>\n",
       "      <td>-1</td>\n",
       "      <td>True</td>\n",
       "    </tr>\n",
       "  </tbody>\n",
       "</table>\n",
       "</div>"
      ],
      "text/plain": [
       "                                           Job Title  \\\n",
       "0  Data Analyst, Center on Immigration and Justic...   \n",
       "\n",
       "              Salary Estimate  \\\n",
       "0  $37K-$66K (Glassdoor est.)   \n",
       "\n",
       "                                     Job Description  Rating  \\\n",
       "0  Are you eager to roll up your sleeves and harn...       3   \n",
       "\n",
       "                     Company Name      Location  Headquarters  \\\n",
       "0  Vera Institute of Justice\\n3.2  New York, NY  New York, NY   \n",
       "\n",
       "                   Size  Founded       Type of ownership           Industry  \\\n",
       "0  201 to 500 employees     1961  Nonprofit Organization  Social Assistance   \n",
       "\n",
       "       Sector                     Revenue Competitors Easy Apply  \n",
       "0  Non-Profit  $100 to $500 million (USD)          -1       True  "
      ]
     },
     "metadata": {},
     "output_type": "display_data"
    },
    {
     "data": {
      "text/markdown": [
       "**after**"
      ],
      "text/plain": [
       "<IPython.core.display.Markdown object>"
      ]
     },
     "metadata": {},
     "output_type": "display_data"
    },
    {
     "data": {
      "text/html": [
       "<div>\n",
       "<style scoped>\n",
       "    .dataframe tbody tr th:only-of-type {\n",
       "        vertical-align: middle;\n",
       "    }\n",
       "\n",
       "    .dataframe tbody tr th {\n",
       "        vertical-align: top;\n",
       "    }\n",
       "\n",
       "    .dataframe thead th {\n",
       "        text-align: right;\n",
       "    }\n",
       "</style>\n",
       "<table border=\"1\" class=\"dataframe\">\n",
       "  <thead>\n",
       "    <tr style=\"text-align: right;\">\n",
       "      <th></th>\n",
       "      <th>location</th>\n",
       "      <th>salary</th>\n",
       "      <th>job_title</th>\n",
       "      <th>company_name</th>\n",
       "      <th>size</th>\n",
       "      <th>ownership</th>\n",
       "      <th>industry</th>\n",
       "      <th>sector</th>\n",
       "      <th>revenue</th>\n",
       "    </tr>\n",
       "  </thead>\n",
       "  <tbody>\n",
       "    <tr>\n",
       "      <th>0</th>\n",
       "      <td>New York, NY</td>\n",
       "      <td>$37K-$66K (Glassdoor est.)</td>\n",
       "      <td>Data Analyst, Center on Immigration and Justic...</td>\n",
       "      <td>Vera Institute of Justice\\n3.2</td>\n",
       "      <td>201 to 500 employees</td>\n",
       "      <td>Nonprofit Organization</td>\n",
       "      <td>Social Assistance</td>\n",
       "      <td>Non-Profit</td>\n",
       "      <td>$100 to $500 million (USD)</td>\n",
       "    </tr>\n",
       "  </tbody>\n",
       "</table>\n",
       "</div>"
      ],
      "text/plain": [
       "       location                      salary  \\\n",
       "0  New York, NY  $37K-$66K (Glassdoor est.)   \n",
       "\n",
       "                                           job_title  \\\n",
       "0  Data Analyst, Center on Immigration and Justic...   \n",
       "\n",
       "                     company_name                  size  \\\n",
       "0  Vera Institute of Justice\\n3.2  201 to 500 employees   \n",
       "\n",
       "                ownership           industry      sector  \\\n",
       "0  Nonprofit Organization  Social Assistance  Non-Profit   \n",
       "\n",
       "                      revenue  \n",
       "0  $100 to $500 million (USD)  "
      ]
     },
     "metadata": {},
     "output_type": "display_data"
    }
   ],
   "source": [
    "key_cols = [\"Location\", \"Salary Estimate\", \"Job Title\", \"Company Name\", \"Size\", \"Type of ownership\", \"Industry\", \"Sector\", \"Revenue\"]\n",
    "\n",
    "names_cols = {\n",
    "    \"Salary Estimate\": \"salary\",\n",
    "    \"Job Title\": \"job_title\",\n",
    "    \"Company Name\": \"company_name\",\n",
    "    \"Type of ownership\": \"ownership\"\n",
    "}\n",
    "\n",
    "df = analyst_df.copy() \n",
    "\n",
    "md(\"**before**\")\n",
    "display(df.head(1))\n",
    "\n",
    "df = df[key_cols]\n",
    "rename_cols(df, names_cols)\n",
    "\n",
    "md(\"**after**\")\n",
    "display(df.head(1))\n",
    "\n",
    "\n"
   ]
  },
  {
   "cell_type": "markdown",
   "metadata": {},
   "source": [
    "## Reformatage\n",
    "\n",
    "La colonne *salary* est mal formatée, on peut en extraire un salaire minimum et maximum et faire la moyenne pour obtenir le salaire."
   ]
  },
  {
   "cell_type": "code",
   "execution_count": 31,
   "metadata": {},
   "outputs": [
    {
     "data": {
      "text/markdown": [
       "**before**"
      ],
      "text/plain": [
       "<IPython.core.display.Markdown object>"
      ]
     },
     "metadata": {},
     "output_type": "display_data"
    },
    {
     "data": {
      "text/html": [
       "<div>\n",
       "<style scoped>\n",
       "    .dataframe tbody tr th:only-of-type {\n",
       "        vertical-align: middle;\n",
       "    }\n",
       "\n",
       "    .dataframe tbody tr th {\n",
       "        vertical-align: top;\n",
       "    }\n",
       "\n",
       "    .dataframe thead th {\n",
       "        text-align: right;\n",
       "    }\n",
       "</style>\n",
       "<table border=\"1\" class=\"dataframe\">\n",
       "  <thead>\n",
       "    <tr style=\"text-align: right;\">\n",
       "      <th></th>\n",
       "      <th>location</th>\n",
       "      <th>salary</th>\n",
       "      <th>job_title</th>\n",
       "      <th>company_name</th>\n",
       "      <th>size</th>\n",
       "      <th>ownership</th>\n",
       "      <th>industry</th>\n",
       "      <th>sector</th>\n",
       "      <th>revenue</th>\n",
       "    </tr>\n",
       "  </thead>\n",
       "  <tbody>\n",
       "    <tr>\n",
       "      <th>0</th>\n",
       "      <td>New York, NY</td>\n",
       "      <td>$37K-$66K (Glassdoor est.)</td>\n",
       "      <td>Data Analyst, Center on Immigration and Justic...</td>\n",
       "      <td>Vera Institute of Justice\\n3.2</td>\n",
       "      <td>201 to 500 employees</td>\n",
       "      <td>Nonprofit Organization</td>\n",
       "      <td>Social Assistance</td>\n",
       "      <td>Non-Profit</td>\n",
       "      <td>$100 to $500 million (USD)</td>\n",
       "    </tr>\n",
       "  </tbody>\n",
       "</table>\n",
       "</div>"
      ],
      "text/plain": [
       "       location                      salary  \\\n",
       "0  New York, NY  $37K-$66K (Glassdoor est.)   \n",
       "\n",
       "                                           job_title  \\\n",
       "0  Data Analyst, Center on Immigration and Justic...   \n",
       "\n",
       "                     company_name                  size  \\\n",
       "0  Vera Institute of Justice\\n3.2  201 to 500 employees   \n",
       "\n",
       "                ownership           industry      sector  \\\n",
       "0  Nonprofit Organization  Social Assistance  Non-Profit   \n",
       "\n",
       "                      revenue  \n",
       "0  $100 to $500 million (USD)  "
      ]
     },
     "metadata": {},
     "output_type": "display_data"
    },
    {
     "data": {
      "text/markdown": [
       "**after**"
      ],
      "text/plain": [
       "<IPython.core.display.Markdown object>"
      ]
     },
     "metadata": {},
     "output_type": "display_data"
    },
    {
     "data": {
      "text/html": [
       "<div>\n",
       "<style scoped>\n",
       "    .dataframe tbody tr th:only-of-type {\n",
       "        vertical-align: middle;\n",
       "    }\n",
       "\n",
       "    .dataframe tbody tr th {\n",
       "        vertical-align: top;\n",
       "    }\n",
       "\n",
       "    .dataframe thead th {\n",
       "        text-align: right;\n",
       "    }\n",
       "</style>\n",
       "<table border=\"1\" class=\"dataframe\">\n",
       "  <thead>\n",
       "    <tr style=\"text-align: right;\">\n",
       "      <th></th>\n",
       "      <th>location</th>\n",
       "      <th>salary</th>\n",
       "      <th>job_title</th>\n",
       "      <th>company_name</th>\n",
       "      <th>size</th>\n",
       "      <th>ownership</th>\n",
       "      <th>industry</th>\n",
       "      <th>sector</th>\n",
       "      <th>revenue</th>\n",
       "      <th>min_salary</th>\n",
       "      <th>max_salary</th>\n",
       "    </tr>\n",
       "  </thead>\n",
       "  <tbody>\n",
       "    <tr>\n",
       "      <th>0</th>\n",
       "      <td>New York, NY</td>\n",
       "      <td>51500</td>\n",
       "      <td>Data Analyst, Center on Immigration and Justic...</td>\n",
       "      <td>Vera Institute of Justice\\n3.2</td>\n",
       "      <td>201 to 500 employees</td>\n",
       "      <td>Nonprofit Organization</td>\n",
       "      <td>Social Assistance</td>\n",
       "      <td>Non-Profit</td>\n",
       "      <td>$100 to $500 million (USD)</td>\n",
       "      <td>37000</td>\n",
       "      <td>66000</td>\n",
       "    </tr>\n",
       "  </tbody>\n",
       "</table>\n",
       "</div>"
      ],
      "text/plain": [
       "       location  salary                                          job_title  \\\n",
       "0  New York, NY   51500  Data Analyst, Center on Immigration and Justic...   \n",
       "\n",
       "                     company_name                  size  \\\n",
       "0  Vera Institute of Justice\\n3.2  201 to 500 employees   \n",
       "\n",
       "                ownership           industry      sector  \\\n",
       "0  Nonprofit Organization  Social Assistance  Non-Profit   \n",
       "\n",
       "                      revenue  min_salary  max_salary  \n",
       "0  $100 to $500 million (USD)       37000       66000  "
      ]
     },
     "metadata": {},
     "output_type": "display_data"
    }
   ],
   "source": [
    "md(\"**before**\")\n",
    "display(df.head(1))\n",
    "\n",
    "df['min_salary']=df['salary'].str.extract(r'^[^\\d]*(\\d+)').astype(\"int32\")*1000\n",
    "df['max_salary']=df['salary'].str.extract(r'(\\d+)(?!.*\\d)').astype(\"int32\")*1000\n",
    "df['salary'] = df[['max_salary', 'min_salary']].mean(axis=1)\n",
    "\n",
    "md(\"**after**\")\n",
    "display(df.head(1))"
   ]
  },
  {
   "cell_type": "markdown",
   "metadata": {},
   "source": [
    "## Données aberrantes\n",
    "\n",
    "Par soucis de cohérence on reprend les mêmes changement que pour la base survey, comme les salaires sont bien mieux centrés ça revient à ne supprimer qu'une seule donnée pour ce dataframe: 1000$"
   ]
  },
  {
   "cell_type": "code",
   "execution_count": 32,
   "metadata": {},
   "outputs": [
    {
     "data": {
      "text/markdown": [
       "### Salaire"
      ],
      "text/plain": [
       "<IPython.core.display.Markdown object>"
      ]
     },
     "metadata": {},
     "output_type": "display_data"
    },
    {
     "data": {
      "text/markdown": [
       "**before**"
      ],
      "text/plain": [
       "<IPython.core.display.Markdown object>"
      ]
     },
     "metadata": {},
     "output_type": "display_data"
    },
    {
     "data": {
      "text/plain": [
       "count     2253\n",
       "mean     72091\n",
       "std      23643\n",
       "min       1000\n",
       "25%      58000\n",
       "50%      69000\n",
       "75%      80500\n",
       "max     150000\n",
       "Name: salary, dtype: float64"
      ]
     },
     "metadata": {},
     "output_type": "display_data"
    },
    {
     "name": "stdout",
     "output_type": "stream",
     "text": [
      "-------------------------\n",
      "nombre de valeurs perdues:  1 / 0.044385264092321346 %\n",
      "-------------------------\n"
     ]
    },
    {
     "data": {
      "text/markdown": [
       "**after**"
      ],
      "text/plain": [
       "<IPython.core.display.Markdown object>"
      ]
     },
     "metadata": {},
     "output_type": "display_data"
    },
    {
     "data": {
      "text/plain": [
       "count     2252\n",
       "mean     72123\n",
       "std      23601\n",
       "min      33500\n",
       "25%      58000\n",
       "50%      69000\n",
       "75%      80500\n",
       "max     150000\n",
       "Name: salary, dtype: float64"
      ]
     },
     "metadata": {},
     "output_type": "display_data"
    },
    {
     "data": {
      "image/png": "[encoded data removed]",
      "text/plain": [
       "<Figure size 1152x432 with 1 Axes>"
      ]
     },
     "metadata": {
      "needs_background": "light"
     },
     "output_type": "display_data"
    }
   ],
   "source": [
    "md(\"### Salaire\")\n",
    "\n",
    "md(\"**before**\")\n",
    "before_counts = df[\"salary\"].size\n",
    "display(df[\"salary\"].describe())\n",
    "\n",
    "# salaires bas\n",
    "df = df[df.salary > 25000]\n",
    "# salaires haut\n",
    "df = df[df.salary < 900000]\n",
    "plt.figure(figsize=(16, 6))\n",
    "sns.boxplot(x=df[\"salary\"])\n",
    "\n",
    "after_counts = df[\"salary\"].size\n",
    "loss = before_counts - after_counts\n",
    "print(\"-------------------------\")\n",
    "print(\"nombre de valeurs perdues: \", before_counts - after_counts, \"/\",  (loss/before_counts)*100, \"%\")\n",
    "print(\"-------------------------\")\n",
    "md(\"**after**\")\n",
    "display(df[\"salary\"].describe())"
   ]
  },
  {
   "cell_type": "markdown",
   "metadata": {},
   "source": [
    "## Rapprochement\n",
    "\n",
    "En listant les noms de jobs on constate qu'il y a énormément de jobs différents qui se ressemblent, on pourrait créer des dizaines de catégories (healthcare...) par regroupement mais par simplification on va juste alimenter les trois premiers jobs (data analyst, senior, junior) et ranger tous ceux qui sont peu représentés (<5) sous l'étiquette \"other\""
   ]
  },
  {
   "cell_type": "code",
   "execution_count": 33,
   "metadata": {},
   "outputs": [
    {
     "data": {
      "text/markdown": [
       "**before**"
      ],
      "text/plain": [
       "<IPython.core.display.Markdown object>"
      ]
     },
     "metadata": {},
     "output_type": "display_data"
    },
    {
     "data": {
      "text/plain": [
       "Data Analyst             405\n",
       "Senior Data Analyst       90\n",
       "Junior Data Analyst       30\n",
       "Business Data Analyst     28\n",
       "Sr. Data Analyst          21\n",
       "Name: job_title, dtype: int64"
      ]
     },
     "metadata": {},
     "output_type": "display_data"
    },
    {
     "data": {
      "text/markdown": [
       "**after**"
      ],
      "text/plain": [
       "<IPython.core.display.Markdown object>"
      ]
     },
     "metadata": {},
     "output_type": "display_data"
    },
    {
     "data": {
      "text/plain": [
       "other                  1633\n",
       "data analyst            450\n",
       "senior data analyst     122\n",
       "junior data analyst      47\n",
       "Name: job_title, dtype: int64"
      ]
     },
     "metadata": {},
     "output_type": "display_data"
    }
   ],
   "source": [
    "\n",
    "def correct_job_title(job_title):\n",
    "    same_jobs_dict = {\n",
    "        \"senior data analyst\" : [\"senior data analyst\", \"sr. data analyst\", \"sr data analyst\"],\n",
    "        \"data analyst\": [\"data analyst\", \"data analyst ii\", \"data analyst iii\", \"data analyst i\"],\n",
    "        \"junior data analyst\" : [\"junior data analyst\", \"data analyst junior\"]\n",
    "    }\n",
    "\n",
    "    for unique_job, same_jobs in same_jobs_dict.items():\n",
    "        if job_title.lower() in same_jobs:\n",
    "            return unique_job\n",
    "#     return job_title.lower()\n",
    "\n",
    "md(\"**before**\")        \n",
    "display(df[\"job_title\"].value_counts()[0:5])\n",
    "\n",
    "df[\"job_title\"] = df[\"job_title\"].map(correct_job_title)\n",
    "vc = df[\"job_title\"].value_counts()\n",
    "df[\"job_title\"] = np.where(df[\"job_title\"].isin(vc.index[vc >= 5]), df[\"job_title\"], 'other')\n",
    "\n",
    "\n",
    "md(\"**after**\")     \n",
    "display(df[\"job_title\"].value_counts())\n",
    "\n"
   ]
  },
  {
   "cell_type": "code",
   "execution_count": 34,
   "metadata": {},
   "outputs": [
    {
     "name": "stdout",
     "output_type": "stream",
     "text": [
      "✅ Save complete. Next step is Career_visualization.\n"
     ]
    }
   ],
   "source": [
    "analyst_df_clean = df.copy()\n",
    "## copie du dataframe corrigé, on passe à l'export des deux dataframes en base sqlite...!\n",
    "\n",
    "tables = {\n",
    "    \"survey\" : survey_df_clean,\n",
    "    \"analyst\": analyst_df_clean\n",
    "}\n",
    "\n",
    "db_name = \"american_dream\"\n",
    "save_to_sql(tables, db_name)\n",
    "print(\"✅ Save complete. Next step is Career_visualization.\")"
   ]
  }
 ],
 "metadata": {
  "kernelspec": {
   "display_name": "Python 3",
   "language": "python",
   "name": "python3"
  },
  "language_info": {
   "codemirror_mode": {
    "name": "ipython",
    "version": 3
   },
   "file_extension": ".py",
   "mimetype": "text/x-python",
   "name": "python",
   "nbconvert_exporter": "python",
   "pygments_lexer": "ipython3",
   "version": "3.8.5"
  }
 },
 "nbformat": 4,
 "nbformat_minor": 4
}
